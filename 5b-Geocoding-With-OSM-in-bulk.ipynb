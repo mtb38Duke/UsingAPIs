{
 "cells": [
  {
   "cell_type": "markdown",
   "metadata": {},
   "source": [
    "## *Bulk* Geocoding using the Open Street Map API\n",
    "\n",
    "Building off the last geocoding exercise, here we perform bactch geocoding. We'll read in a set of addresses stored in an Excel file and geocode them using the OSM geocoding API. The addresses are stored in the `ChileCare_Facilities.xlsx` file in the `Data` folder of this workspace, and we'll save the output in that folder as well."
   ]
  },
  {
   "cell_type": "code",
   "execution_count": 1,
   "metadata": {},
   "outputs": [],
   "source": [
    "#Import the requests module\n",
    "import requests\n",
    "import pandas as pd"
   ]
  },
  {
   "cell_type": "code",
   "execution_count": 2,
   "metadata": {},
   "outputs": [],
   "source": [
    "#Import openpyxl, install if needed\n",
    "try:\n",
    "    import openpyxl\n",
    "except:\n",
    "    import pip\n",
    "    pip.main(['install','openpyxl'])\n",
    "    import openpyxl"
   ]
  },
  {
   "cell_type": "code",
   "execution_count": 3,
   "metadata": {},
   "outputs": [],
   "source": [
    "#Create a function that will invoke the OSM API to return coordinates for an address\n",
    "def getCoord(street,city,state,zip):\n",
    "    #Form the address\n",
    "    address = \"{0} {1} {2} {3}\".format(street,town,state,zipcode)\n",
    "    #Form the request\n",
    "    osmURL = 'http://nominatim.openstreetmap.org/search'\n",
    "    params = {'format':'json','q':address} \n",
    "    #Send the request\n",
    "    response = requests.get(osmURL, params)\n",
    "    #Read in the response as a JSON encoded object\n",
    "    jsonObj = response.json()\n",
    "    d = jsonObj[0]\n",
    "    lat = float(d['lat'])\n",
    "    lng = float(d['lon'])\n",
    "    #Return the coordinate pair for the address\n",
    "    return(lat, lng)"
   ]
  },
  {
   "cell_type": "code",
   "execution_count": 35,
   "metadata": {},
   "outputs": [
    {
     "data": {
      "text/plain": [
       "Index([u'County Name Of Facility Location', u'Facility Name', u'Facility Type',\n",
       "       u'Phone Number', u'Permit Type', u'Email Address',\n",
       "       u'Location Address Line 1', u'Location City', u'Location State',\n",
       "       u'Location Zip Code', u'Full Address ', u'Mailing Address Line 1',\n",
       "       u'Mailing City', u'Mailing State', u'Mailing Zip Code'],\n",
       "      dtype='object')"
      ]
     },
     "execution_count": 35,
     "metadata": {},
     "output_type": "execute_result"
    }
   ],
   "source": [
    "#Pull in the excel spreadsheet as a pandas dataframe\n",
    "df = pd.read_excel('../data/Childcare_Facilities.xlsx',index_col='Facility ID')\n",
    "df.columns"
   ]
  },
  {
   "cell_type": "code",
   "execution_count": 38,
   "metadata": {},
   "outputs": [
    {
     "data": {
      "text/plain": [
       "(6298, 4)"
      ]
     },
     "execution_count": 38,
     "metadata": {},
     "output_type": "execute_result"
    }
   ],
   "source": [
    "#Subset to the columns we need\n",
    "dfSubset = df[['Location Address Line 1','Location City','Location State','Location Zip Code']].copy(deep=True)\n",
    "dfSubset.dropna(inplace=True,axis='rows')\n",
    "dfSubset.shape"
   ]
  },
  {
   "cell_type": "code",
   "execution_count": null,
   "metadata": {
    "collapsed": true
   },
   "outputs": [],
   "source": [
    "#Iterate through rows and compute the address"
   ]
  },
  {
   "cell_type": "code",
   "execution_count": null,
   "metadata": {
    "collapsed": true
   },
   "outputs": [],
   "source": [
    "df['Coords'] = df[]\n",
    ".apply(lambda row: getCoord(row['']))"
   ]
  },
  {
   "cell_type": "code",
   "execution_count": 15,
   "metadata": {},
   "outputs": [],
   "source": [
    "street = df.iloc[0,6]\n",
    "town = df.iloc[0,7]\n",
    "state = df.iloc[0,8]\n",
    "zipcode = df.iloc[0,9]\n",
    "address = \"{0} {1} {2} {3}\".format(street,town,state,zipcode)"
   ]
  },
  {
   "cell_type": "code",
   "execution_count": 32,
   "metadata": {},
   "outputs": [],
   "source": [
    "coord = getCoord(street,town,state,zipcode)"
   ]
  },
  {
   "cell_type": "code",
   "execution_count": 33,
   "metadata": {},
   "outputs": [
    {
     "data": {
      "text/plain": [
       "(36.052066, -79.479081)"
      ]
     },
     "execution_count": 33,
     "metadata": {},
     "output_type": "execute_result"
    }
   ],
   "source": [
    "coord"
   ]
  },
  {
   "cell_type": "code",
   "execution_count": 4,
   "metadata": {
    "collapsed": true
   },
   "outputs": [],
   "source": [
    "#Read in the addresses from the excel file using openpyxl\n",
    "\n",
    "#Create a workbook object from the file name\n",
    "wb = openpyxl.load_workbook('../data/Childcare_Facilities.xlsx')\n",
    "#Get the active worksheet\n",
    "ws = wb.active"
   ]
  },
  {
   "cell_type": "code",
   "execution_count": 7,
   "metadata": {
    "collapsed": true
   },
   "outputs": [],
   "source": [
    "wb.close()"
   ]
  }
 ],
 "metadata": {
  "kernelspec": {
   "display_name": "Python 3",
   "language": "python",
   "name": "python3"
  },
  "language_info": {
   "codemirror_mode": {
    "name": "ipython",
    "version": 3
   },
   "file_extension": ".py",
   "mimetype": "text/x-python",
   "name": "python",
   "nbconvert_exporter": "python",
   "pygments_lexer": "ipython3",
   "version": "3.6.5"
  }
 },
 "nbformat": 4,
 "nbformat_minor": 2
}
